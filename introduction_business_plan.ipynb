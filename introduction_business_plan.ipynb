{
  "nbformat": 4,
  "nbformat_minor": 0,
  "metadata": {
    "colab": {
      "name": "introduction/business plan.ipynb",
      "provenance": [],
      "collapsed_sections": [],
      "toc_visible": true
    },
    "kernelspec": {
      "name": "python3",
      "display_name": "Python 3"
    }
  },
  "cells": [
    {
      "cell_type": "markdown",
      "metadata": {
        "id": "WBmd5AT2H6ns"
      },
      "source": [
        "##**the battle of neighborhood**\r\n",
        "\r\n",
        "---\r\n",
        "\r\n",
        "\r\n"
      ]
    },
    {
      "cell_type": "markdown",
      "metadata": {
        "id": "qPcrxZqJucgC"
      },
      "source": [
        "###**Introducion**"
      ]
    },
    {
      "cell_type": "markdown",
      "metadata": {
        "id": "BknllvVeutiO"
      },
      "source": [
        "The integration of machine learning and geography can provide novel approches in addressing a variety of problems occuring in natural and human environments.this article presents an expriment that identifies the best neighborhoods in the city of toronto , which appears as the largest city of canada with an estimation of 6 millions population out there.\r\n",
        "using machine learnings and data science techniques we will try to determine what would the best place ( neighboorhoods ) to start a business ( opening a restaurent or a fast food kiosk ).\r\n"
      ]
    },
    {
      "cell_type": "markdown",
      "metadata": {
        "id": "QCHqi04OzSOs"
      },
      "source": [
        "###**Target clientele** \r\n",
        "this analysis might be helpful for Entrepreneurs or Business owners who want to open a new  Restaurant or grow their current business.\r\n"
      ]
    },
    {
      "cell_type": "markdown",
      "metadata": {
        "id": "e8_2P8Ee0CG8"
      },
      "source": [
        "###**Libraries Used to Develope the Project:**\r\n",
        "\r\n",
        "*   Matplotlib: Python Plotting Module.\r\n",
        "*   Pandas: For manipulating dataframes.\r\n",
        "*   XML: To separate data from presentation and XML stored data.\r\n",
        "*   Beautiful Soup and Requests: To scrap and library to handle http requests.\r\n",
        "*   Folium: Python visualization library\r\n",
        "*   Scikit Learn: For importing k-means clustering.\r\n"
      ]
    },
    {
      "cell_type": "markdown",
      "metadata": {
        "id": "8erSe2tN2A8o"
      },
      "source": [
        "###**data description**"
      ]
    },
    {
      "cell_type": "markdown",
      "metadata": {
        "id": "0UTn-c-h2HMI"
      },
      "source": [
        "to solve this problem and get the analysis start we firt need data to act on , the data needed for this project is a combination of CSV files that have been prepared for the purposes of the analysis which will provide [ the list of neighbourhoods in Toronto](https://https://en.wikipedia.org/wiki/List_of_postal_codes_of_Canada:_M).\r\n",
        "we also need the [\"Foursquare\"](https://foursquare.com\r\n",
        ") for locational information and the Geographical location using ( Geocoder package ).\r\n"
      ]
    },
    {
      "cell_type": "code",
      "metadata": {
        "id": "fSpcrQpl3Sq5"
      },
      "source": [
        ""
      ],
      "execution_count": null,
      "outputs": []
    }
  ]
}